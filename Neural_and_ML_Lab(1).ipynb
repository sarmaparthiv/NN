{
  "cells": [
    {
      "cell_type": "markdown",
      "metadata": {
        "id": "k0okVZNJ9zAG"
      },
      "source": [
        "# Python Code Questions"
      ],
      "id": "k0okVZNJ9zAG"
    },
    {
      "cell_type": "code",
      "source": [
        ""
      ],
      "metadata": {
        "id": "nOPzIjhbETLf"
      },
      "id": "nOPzIjhbETLf",
      "execution_count": null,
      "outputs": []
    },
    {
      "cell_type": "markdown",
      "metadata": {
        "id": "-WX2ndmx9zAW"
      },
      "source": [
        "### Q1"
      ],
      "id": "-WX2ndmx9zAW"
    },
    {
      "cell_type": "code",
      "execution_count": null,
      "metadata": {
        "id": "3yy18Tll9zAZ",
        "outputId": "ab62e2a8-d275-47b2-9482-1c4ff97a75cb"
      },
      "outputs": [
        {
          "name": "stdout",
          "output_type": "stream",
          "text": [
            "Hello Python\n",
            "foo\n"
          ]
        }
      ],
      "source": [
        "print (\"Hello Python\")\n",
        "\n",
        "import sys \n",
        "#This module provides access to some variables used or maintained by the interpreter and to functions that interact strongly with the interpreter.\n",
        "\n",
        "x='foo'\n",
        "sys.stdout.write(x + '\\n')"
      ],
      "id": "3yy18Tll9zAZ"
    },
    {
      "cell_type": "markdown",
      "metadata": {
        "id": "IWH4c2Sv9zAd"
      },
      "source": [
        "### Q2."
      ],
      "id": "IWH4c2Sv9zAd"
    },
    {
      "cell_type": "code",
      "execution_count": null,
      "metadata": {
        "id": "9UVkr2ta9zAf",
        "outputId": "bddb512b-8bd2-4709-8be3-2b08e935fa56"
      },
      "outputs": [
        {
          "name": "stdout",
          "output_type": "stream",
          "text": [
            "0\n",
            "0.0\n",
            "Crypt\n",
            "a: 1, b: Crypt, c: Shadow\n"
          ]
        }
      ],
      "source": [
        "#!/usr/bin/python\n",
        "\n",
        "# Constant\n",
        "\n",
        "counter = 0\n",
        "miles = 0.0\n",
        "name = 'Crypt'\n",
        "print (counter)\n",
        "print (miles)\n",
        "print (name)\n",
        "\n",
        "#variables\n",
        "a = b = c = 1\n",
        "a, b, c= 1,'Crypt','Shadow'\n",
        "\n",
        "print (f\"a: {a}, b: {b}, c: {c}\")\n",
        "\n",
        "#delete variable\n",
        "del a"
      ],
      "id": "9UVkr2ta9zAf"
    },
    {
      "cell_type": "markdown",
      "metadata": {
        "id": "KjDvTvQ99zAg"
      },
      "source": [
        "### Q3."
      ],
      "id": "KjDvTvQ99zAg"
    },
    {
      "cell_type": "code",
      "execution_count": null,
      "metadata": {
        "id": "39evbbJx9zAh",
        "outputId": "296162ff-e182-4a93-913f-8f0d1ef1c4cd"
      },
      "outputs": [
        {
          "name": "stdout",
          "output_type": "stream",
          "text": [
            "Crypt Shadow\n",
            "C\n",
            "Crypt\n",
            "Shadow\n",
            "ypt Sha\n",
            "Crypt ShadowCrypt Shadow\n",
            "Crypt Shadow None\n",
            "Nitin Choudhury\n",
            "Updating string:  Nitin SHADOW\n",
            "My name is Crypt and weight is 49\n",
            "\n",
            "This is Nitin Choudhury.\n",
            "I am a dummy variable.\n",
            "\tLOL. IDK anything.\n",
            "\n",
            "Thank You.\n",
            "\n"
          ]
        }
      ],
      "source": [
        "#!/usr/bin/python\n",
        "\n",
        "#string \n",
        "string = \"Crypt Shadow\"\n",
        "\n",
        "print(string)\n",
        "print(string[0])\n",
        "print(string[:5])\n",
        "print(string[6:])\n",
        "print(string[2:9])\n",
        "print(string * 2)\n",
        "print(string + \" None\")\n",
        "\n",
        "\n",
        "# updating string\n",
        "var1 = \"Nitin Choudhury\"\n",
        "print(var1)\n",
        "print(\"Updating string: \", var1[:6] + \"SHADOW\")\n",
        "\n",
        "\n",
        "# string formatting operator\n",
        "print(\"My name is %s and weight is %d\" % (\"Crypt\", 49))\n",
        "\n",
        "# Triple quote\n",
        "paragraph = '''\n",
        "This is Nitin Choudhury.\n",
        "I am a dummy variable.\n",
        "\\tLOL. IDK anything.\\n\n",
        "Thank You.\n",
        "'''\n",
        "\n",
        "print(paragraph)\n",
        "\n"
      ],
      "id": "39evbbJx9zAh"
    },
    {
      "cell_type": "markdown",
      "metadata": {
        "id": "wYANBLli9zAk"
      },
      "source": [
        "### Q4. "
      ],
      "id": "wYANBLli9zAk"
    },
    {
      "cell_type": "code",
      "execution_count": null,
      "metadata": {
        "id": "AAE3OK5L9zAl",
        "outputId": "66ca6346-e49a-4693-dab3-044645411d04"
      },
      "outputs": [
        {
          "name": "stdout",
          "output_type": "stream",
          "text": [
            "['Crypt', 'Shadow', 'Nitin', '20', '19', '21']\n",
            "Crypt\n",
            "['Nitin', '20', '19', '21']\n",
            "S\n",
            "['C', 'S']\n",
            "['Crypt', 'Shadow', 'Nitin', '20', '19', '21', 'C', 'S']\n",
            "['Cyber', 'Security', 2000, 2017]\n",
            "Value at index 2: 2000\n",
            "New value at index 2: 2003\n",
            "['Cyber', 2003, 2017]\n",
            "After deleting value at index 1 the list looks like this: None\n",
            "('Crypt', 'Shadow', 20, 21)\n",
            "(22, 28)\n",
            "('Shadow', 20, 21)\n",
            "28\n",
            "('Crypt', 'Shadow', 20, 21, 22, 28)\n"
          ]
        }
      ],
      "source": [
        "#!/usr/bin/python\n",
        "\n",
        "\n",
        "#list\n",
        "biglist = [\n",
        "    \"Crypt\",\n",
        "    \"Shadow\",\n",
        "    \"Nitin\",\n",
        "    \"20\", \n",
        "    \"19\",\n",
        "    \"21\"\n",
        "]\n",
        "\n",
        "tinylist = [\"C\", \"S\"]\n",
        "\n",
        "print(biglist)\n",
        "print(biglist[0])\n",
        "print(biglist[2:])\n",
        "print(tinylist[1])\n",
        "print(tinylist)\n",
        "print(biglist + tinylist)\n",
        "\n",
        "# updating list\n",
        "\n",
        "\n",
        "list = [\"Cyber\", \"Security\", 2000, 2017]\n",
        "print(list)\n",
        "\n",
        "print(f\"Value at index 2: {list[2]}\")\n",
        "\n",
        "list[2] = 2003\n",
        "print(f\"New value at index 2: {list[2]}\")\n",
        "\n",
        "\n",
        "del list[1]\n",
        "\n",
        "print(f\"After deleting value at index 1 the list looks like this: {print(list)}\")\n",
        "\n",
        "\n",
        "\n",
        "#tuple\n",
        "bigtup = (\"Crypt\", \"Shadow\", 20, 21)\n",
        "tinytup = (22, 28)\n",
        "\n",
        "print(bigtup)\n",
        "print(tinytup)\n",
        "print(bigtup[1:])\n",
        "print(tinytup[1])\n",
        "print(bigtup + tinytup)\n",
        "\n",
        "# deleting elements of tuple is not permitted"
      ],
      "id": "AAE3OK5L9zAl"
    },
    {
      "cell_type": "markdown",
      "metadata": {
        "id": "UkKN6mqk9zAn"
      },
      "source": [
        "### Q5. "
      ],
      "id": "UkKN6mqk9zAn"
    },
    {
      "cell_type": "code",
      "execution_count": null,
      "metadata": {
        "id": "Rwqa_0Ge9zAo",
        "outputId": "22b8f912-eba9-4e44-d4ef-80d014c4c3be"
      },
      "outputs": [
        {
          "name": "stdout",
          "output_type": "stream",
          "text": [
            "{'First Name': 'Crypt', 'Last Name': 'Shadow'}\n",
            "Crypt\n",
            "Shadow\n",
            "dict_values(['Crypt', 'Shadow'])\n",
            "dict_keys(['First Name', 'Last Name'])\n",
            "{'Name': 'Crypt Shadow', 'Course': 'B.TECH', 'Year': '2019', 'Branch': 'CSE'}\n",
            "dict_keys(['Name', 'Course', 'Year', 'Branch'])\n",
            "dict_values(['Crypt Shadow', 'B.TECH', '2019', 'CSE'])\n",
            "{'Name': 'Crypt Shadow', 'Course': 'B.TECH', 'Year': '2019', 'Branch': 'CSE', 'Interest': 'Security', 'Real': 'None'}\n"
          ]
        }
      ],
      "source": [
        "# Dictionaries are a data structure in Python that are very similar to associative arrays. \n",
        "# They are non-ordered and contain \"keys\" and \"values\".\n",
        "# Each key is unique and the values can be just about anything, but usually they are string, int, or float, or a list of these things.\n",
        "\n",
        "dictionary = {}\n",
        "\n",
        "dictionary[\"First Name\"] = \"Crypt\"\n",
        "dictionary[\"Last Name\"] = \"Shadow\"\n",
        "\n",
        "tinydict = {\n",
        "    \"Name\": \"Crypt Shadow\",\n",
        "    \"Course\": \"B.TECH\",\n",
        "    \"Year\": \"2019\",\n",
        "    \"Branch\": \"CSE\"}\n",
        "\n",
        "print(dictionary)\n",
        "print(dictionary[\"First Name\"])\n",
        "print(dictionary['Last Name'])\n",
        "print(dictionary.values())\n",
        "print(dictionary.keys())\n",
        "\n",
        "print(tinydict)\n",
        "print(tinydict.keys())\n",
        "print(tinydict.values())\n",
        "\n",
        "\n",
        "# updating dictionary\n",
        "\n",
        "tinydict[\"Interest\"]= \"Security\"\n",
        "tinydict[\"Real\"]= \"None\"\n",
        "\n",
        "print(tinydict)"
      ],
      "id": "Rwqa_0Ge9zAo"
    },
    {
      "cell_type": "markdown",
      "metadata": {
        "id": "GwZo1G3c9zAq"
      },
      "source": [
        "### Q6. "
      ],
      "id": "GwZo1G3c9zAq"
    },
    {
      "cell_type": "code",
      "execution_count": null,
      "metadata": {
        "id": "RCTLlx_Q9zAq",
        "outputId": "6be83974-e6c4-417a-94d9-83dd36acaaf8"
      },
      "outputs": [
        {
          "name": "stdout",
          "output_type": "stream",
          "text": [
            "1\n",
            "2\n",
            "3\n",
            "4\n",
            "5\n",
            "6\n",
            "7\n",
            "8\n",
            "9\n",
            "10\n",
            "50\n",
            "60\n",
            "60\n",
            "20\n",
            "10\n",
            "50\n",
            "20\n",
            "10\n",
            "40\n",
            "1\n",
            "2\n",
            "3\n",
            "4\n",
            "5\n",
            "6\n",
            "7\n",
            "8\n",
            "9\n",
            "10\n"
          ]
        }
      ],
      "source": [
        "# While loop\n",
        "condition = 1\n",
        "\n",
        "while condition < 10:\n",
        "    print(condition)\n",
        "    condition += 1\n",
        "\n",
        "# For loop\n",
        "exampleList = [10, 50, 60, 60, 20, 10, 50, 20, 10, 40]\n",
        "\n",
        "for x in exampleList:\n",
        "    print(x)\n",
        "\n",
        "for x in range(1,11):\n",
        "    print(x)\n",
        "\n",
        "\n"
      ],
      "id": "RCTLlx_Q9zAq"
    },
    {
      "cell_type": "markdown",
      "metadata": {
        "id": "pPLF0Ik29zAr"
      },
      "source": [
        "### Q7."
      ],
      "id": "pPLF0Ik29zAr"
    },
    {
      "cell_type": "code",
      "execution_count": null,
      "metadata": {
        "id": "VAmimcqz9zAs",
        "outputId": "657252c0-1bcb-483e-ff69-74b61fdb0555"
      },
      "outputs": [
        {
          "name": "stdout",
          "output_type": "stream",
          "text": [
            "101 is greater than 71\n",
            "21 is less than 220\n"
          ]
        }
      ],
      "source": [
        "# If-else statement\n",
        "x = 71\n",
        "y = 101\n",
        "\n",
        "if x > y:\n",
        "    print(f'{x} is greater than {y}')\n",
        "else:\n",
        "    print(f'{y} is greater than {x}')\n",
        "\n",
        "\n",
        "#  \"elif\" statement\n",
        "x = 21\n",
        "y = 101\n",
        "z = 220\n",
        "\n",
        "if x > y:\n",
        "    print(f'{x} is greater than {y}')\n",
        "elif x < z:\n",
        "    print(f'{x} is less than {z}')\n",
        "else:\n",
        "    print(f'IF and ELIF not ran yet')\n",
        "\n"
      ],
      "id": "VAmimcqz9zAs"
    },
    {
      "cell_type": "markdown",
      "metadata": {
        "id": "94KTWH4y9zAu"
      },
      "source": [
        "### Q8."
      ],
      "id": "94KTWH4y9zAu"
    },
    {
      "cell_type": "code",
      "execution_count": null,
      "metadata": {
        "id": "H5Pwfkzt9zAv",
        "outputId": "a54f49ba-257f-4f48-e6f3-588a24776d96"
      },
      "outputs": [
        {
          "name": "stdout",
          "output_type": "stream",
          "text": [
            "Value of Z: 12\n",
            "SUM: 34\n",
            "SUM: 8\n"
          ]
        }
      ],
      "source": [
        "def example():\n",
        "    z = 3 + 9\n",
        "    print(f\"Value of Z: {z}\")\n",
        "\n",
        "def add(num1, num2):\n",
        "    answer = num1 + num2\n",
        "    print(f\"SUM: {answer}\")\n",
        "\n",
        "# simple function\n",
        "example()\n",
        "\n",
        "# function with parameters\n",
        "add(21, 13)\n",
        "\n",
        "# If you have a lot of parameters where it might be difficult to remember their order, you could do something like:\n",
        "add(num2=3, num1=5)\n"
      ],
      "id": "H5Pwfkzt9zAv"
    },
    {
      "cell_type": "markdown",
      "metadata": {
        "id": "fFduC2i29zAw"
      },
      "source": [
        "### Q9."
      ],
      "id": "fFduC2i29zAw"
    },
    {
      "cell_type": "code",
      "execution_count": null,
      "metadata": {
        "id": "S46DucNC9zAw"
      },
      "outputs": [],
      "source": [
        "text = 'Crypt Shadow\\n\\tvs\\nNitin Choudhury'\n",
        "\n",
        "# notifies Python that you are opening this file, with the intention to write\n",
        "filename = open('exampleFile.txt','w')\n",
        "\n",
        "# actually writes the information\n",
        "filename.write(text)\n",
        "\n",
        "# It is important to remember to actually close the file, otherwise it will\n",
        "# hang for a while and could cause problems in your script\n",
        "filename.close()\n"
      ],
      "id": "S46DucNC9zAw"
    },
    {
      "cell_type": "markdown",
      "metadata": {
        "id": "XUUhRpRR9zAx"
      },
      "source": [
        "### Q10."
      ],
      "id": "XUUhRpRR9zAx"
    },
    {
      "cell_type": "code",
      "execution_count": null,
      "metadata": {
        "id": "oiJ7YF7J9zAx",
        "outputId": "64a35712-b103-4f15-e7f0-c68efda2b586"
      },
      "outputs": [
        {
          "name": "stdout",
          "output_type": "stream",
          "text": [
            "Crypt Shadow\n",
            "\tvs\n",
            "Nitin Choudhury\n",
            "['Crypt Shadow\\n', '\\tvs\\n', 'Nitin Choudhury']\n"
          ]
        }
      ],
      "source": [
        "# similar syntax as you've seen, 'r' for read. You can just throw a .read() at\n",
        "# the end, and you get:\n",
        "readMe = open('exampleFile.txt','r').read()\n",
        "print(readMe)\n",
        "\n",
        "\n",
        "# this will instead read the file into a python list. \n",
        "readMe = open('exampleFile.txt','r').readlines()\n",
        "print(readMe)\n"
      ],
      "id": "oiJ7YF7J9zAx"
    },
    {
      "cell_type": "markdown",
      "metadata": {
        "id": "5ozmQGyj9zAy"
      },
      "source": [
        "### Q11."
      ],
      "id": "5ozmQGyj9zAy"
    },
    {
      "cell_type": "code",
      "execution_count": null,
      "metadata": {
        "id": "IAAEj9q69zAz",
        "outputId": "3194fbf0-28a8-46b1-fc18-e98e5f9588e6"
      },
      "outputs": [
        {
          "name": "stdout",
          "output_type": "stream",
          "text": [
            "Name :  Crypt , Salary:  44000\n",
            "Name :  Shadow , Salary:  65000\n",
            "Total Employee 2\n"
          ]
        }
      ],
      "source": [
        "class Employee:\n",
        "    '''\n",
        "    Common base class for all employees\n",
        "    '''\n",
        "    \n",
        "    empCount = 0\n",
        "    \n",
        "    def __init__(self, name, salary):\n",
        "        self.name = name\n",
        "        self.salary = salary\n",
        "        Employee.empCount += 1\n",
        "   \n",
        "    def displayCount(self):\n",
        "        print(\"Total Employee %d\" % Employee.empCount)\n",
        "\n",
        "    def displayEmployee(self):\n",
        "        print(\"Name : \", self.name,  \", Salary: \", self.salary)\n",
        "\n",
        "\n",
        "'''\n",
        "This would create first object of Employee class\n",
        "'''\n",
        "\n",
        "emp1 = Employee(\"Crypt\", 44000)\n",
        "\n",
        "'''\n",
        "This would create second object of Employee class\n",
        "'''\n",
        "\n",
        "emp2 = Employee(\"Shadow\", 65000)\n",
        "emp1.displayEmployee()\n",
        "emp2.displayEmployee()\n",
        "print(\"Total Employee %d\" % Employee.empCount)\n",
        "\n"
      ],
      "id": "IAAEj9q69zAz"
    },
    {
      "cell_type": "markdown",
      "metadata": {
        "id": "li0uCD1b9zA0"
      },
      "source": [
        "### Q12."
      ],
      "id": "li0uCD1b9zA0"
    },
    {
      "cell_type": "code",
      "execution_count": null,
      "metadata": {
        "id": "dDrLcpKB9zA1",
        "outputId": "1cc27a9f-fead-4457-8168-556ce2a32d21"
      },
      "outputs": [
        {
          "data": {
            "image/png": "[encoded data removed]",
            "text/plain": [
              "<Figure size 432x288 with 1 Axes>"
            ]
          },
          "metadata": {
            "needs_background": "light"
          },
          "output_type": "display_data"
        }
      ],
      "source": [
        "import matplotlib\n",
        "%matplotlib inline\n",
        "\n",
        "#Importing pyplot\n",
        "from matplotlib import pyplot as plt\n",
        "\n",
        "#Plotting to our canvas\n",
        "plt.plot([1, 2, 3, 5], [4, 5, 0, 1])\n",
        "\n",
        "#Showing what we plotted\n",
        "plt.show()\n"
      ],
      "id": "dDrLcpKB9zA1"
    },
    {
      "cell_type": "markdown",
      "metadata": {
        "id": "OG0ktkWO9zA1"
      },
      "source": [
        "### Q13."
      ],
      "id": "OG0ktkWO9zA1"
    },
    {
      "cell_type": "code",
      "execution_count": null,
      "metadata": {
        "id": "m0Q565Z69zA1",
        "outputId": "67ec01ea-8249-4f19-9a52-27f024bd784b"
      },
      "outputs": [
        {
          "name": "stdout",
          "output_type": "stream",
          "text": [
            "[[0, 0], [1, 1]]\n",
            "[0, 1]\n",
            "[1]\n"
          ]
        }
      ],
      "source": [
        "from sklearn import svm\n",
        "\n",
        "\n",
        "X = [[0, 0], [1, 1]]\n",
        "y = [0, 1]\n",
        "\n",
        "print(X)\n",
        "print(y)\n",
        "\n",
        "# SVC is for support vector classification . \n",
        "clf = svm.SVC(kernel='rbf', max_iter=100) \n",
        "\n",
        "\n",
        "# fit the model\n",
        "clf.fit(X, y)   \n",
        "\n",
        "#After being fitted, the model can then be used to predict new values:\n",
        "p=clf.predict([[2., 2.]])\n",
        "print(p)\n",
        "\n"
      ],
      "id": "m0Q565Z69zA1"
    },
    {
      "cell_type": "markdown",
      "metadata": {
        "id": "Mr5Ajxzw9zA2"
      },
      "source": [
        "### Q14."
      ],
      "id": "Mr5Ajxzw9zA2"
    },
    {
      "cell_type": "code",
      "execution_count": null,
      "metadata": {
        "id": "hQWtI92A9zA3",
        "outputId": "081f0497-383d-49a1-8dd7-e22a456081fd"
      },
      "outputs": [
        {
          "name": "stdout",
          "output_type": "stream",
          "text": [
            "[[0.19883667]\n",
            " [0.2626397 ]\n",
            " [0.26678453]\n",
            " [0.40781757]\n",
            " [0.41283882]\n",
            " [0.60328087]\n",
            " [0.93681581]\n",
            " [1.01576114]\n",
            " [1.26201548]\n",
            " [1.28957561]\n",
            " [1.38432326]\n",
            " [1.75027063]\n",
            " [1.75902142]\n",
            " [1.76374714]\n",
            " [1.78054937]\n",
            " [1.79605018]\n",
            " [1.88692763]\n",
            " [2.13888025]\n",
            " [2.31931068]\n",
            " [2.36680246]\n",
            " [2.43229302]\n",
            " [2.43953052]\n",
            " [2.55195814]\n",
            " [2.77974018]\n",
            " [2.88279575]\n",
            " [3.00383078]\n",
            " [3.03221375]\n",
            " [3.0389228 ]\n",
            " [3.74103913]\n",
            " [3.81783537]\n",
            " [3.83507623]\n",
            " [3.92969766]\n",
            " [3.98413797]\n",
            " [4.00351977]\n",
            " [4.17578309]\n",
            " [4.21299876]\n",
            " [4.6849545 ]\n",
            " [4.79180961]\n",
            " [4.83970868]\n",
            " [4.93146898]]\n",
            "[ 0.19752905  0.25963064  0.26363109  0.39660682  0.40121126  0.56734725\n",
            "  0.80567602  0.8498819   0.95270477  0.96071737  0.98266422  0.98393767\n",
            "  0.9823379   0.98144267  0.97808236  0.97473744  0.95044527  0.8429334\n",
            "  0.73270073  0.69956617  0.65130248  0.64579353  0.55605729  0.35400735\n",
            "  0.25591771  0.13732654  0.10916094  0.10248958 -0.56418555 -0.62586703\n",
            " -0.63922001 -0.70901822 -0.74633961 -0.75909848 -0.85944877 -0.87787474\n",
            " -0.9996237  -0.99684784 -0.99190579 -0.97609781]\n",
            "[-0.77962542  0.25963064  0.26363109  0.39660682  0.40121126  0.70165536\n",
            "  0.80567602  0.8498819   0.95270477  0.96071737  1.38630938  0.98393767\n",
            "  0.9823379   0.98144267  0.97808236  1.31347386  0.95044527  0.8429334\n",
            "  0.73270073  0.69956617  0.00873844  0.64579353  0.55605729  0.35400735\n",
            "  0.25591771 -0.64804154  0.10916094  0.10248958 -0.56418555 -0.62586703\n",
            " -1.76947666 -0.70901822 -0.74633961 -0.75909848 -0.85944877 -0.78690736\n",
            " -0.9996237  -0.99684784 -0.99190579 -0.97609781]\n"
          ]
        },
        {
          "data": {
            "image/png": "[encoded data removed]",
            "text/plain": [
              "<Figure size 432x288 with 1 Axes>"
            ]
          },
          "metadata": {
            "needs_background": "light"
          },
          "output_type": "display_data"
        }
      ],
      "source": [
        "#!/urs/bin/python\n",
        "\n",
        "import numpy as np\n",
        "from sklearn.svm import SVR\n",
        "import matplotlib.pyplot as plt\n",
        "\n",
        "# #############################################################################\n",
        "# Generate sample data\n",
        "X = np.sort(5 * np.random.rand(40, 1), axis=0)\n",
        "y = np.sin(X).ravel()\n",
        "print(X)\n",
        "print(y)\n",
        "\n",
        "# #############################################################################\n",
        "# Add noise to targets\n",
        "y[::5] += 3 * (0.5 - np.random.rand(8))\n",
        "print(y)\n",
        "# #############################################################################\n",
        "# Fit regression model\n",
        "svr_rbf = SVR(kernel='rbf', C=1e3, gamma=0.1)\n",
        "svr_lin = SVR(kernel='linear', C=1e3)\n",
        "svr_poly = SVR(kernel='poly', C=1e3, degree=2)\n",
        "y_rbf = svr_rbf.fit(X, y).predict(X)\n",
        "y_lin = svr_lin.fit(X, y).predict(X)\n",
        "y_poly = svr_poly.fit(X, y).predict(X)\n",
        "\n",
        "# #############################################################################\n",
        "# Look at the results\n",
        "lw = 2\n",
        "plt.scatter(X, y, color='darkorange', label='data')\n",
        "plt.plot(X, y_rbf, color='navy', lw=lw, label='RBF model')\n",
        "plt.plot(X, y_lin, color='c', lw=lw, label='Linear model')\n",
        "plt.plot(X, y_poly, color='cornflowerblue', lw=lw, label='Polynomial model')\n",
        "plt.xlabel('data')\n",
        "plt.ylabel('target')\n",
        "plt.title('Support Vector Regression')\n",
        "plt.legend()\n",
        "plt.show()\n",
        "\n"
      ],
      "id": "hQWtI92A9zA3"
    },
    {
      "cell_type": "markdown",
      "metadata": {
        "id": "bTkqiALf9zA3"
      },
      "source": [
        "### Q15."
      ],
      "id": "bTkqiALf9zA3"
    },
    {
      "cell_type": "code",
      "execution_count": null,
      "metadata": {
        "id": "InfSxgGR9zA4",
        "outputId": "866acb5d-dfbb-4103-d118-4c9e9f5060b4"
      },
      "outputs": [
        {
          "name": "stderr",
          "output_type": "stream",
          "text": [
            "D:\\softwares\\anaconda\\lib\\site-packages\\sklearn\\svm\\_base.py:976: ConvergenceWarning: Liblinear failed to converge, increase the number of iterations.\n",
            "  warnings.warn(\"Liblinear failed to converge, increase \"\n"
          ]
        },
        {
          "data": {
            "image/png": "[encoded data removed]",
            "text/plain": [
              "<Figure size 432x288 with 4 Axes>"
            ]
          },
          "metadata": {},
          "output_type": "display_data"
        }
      ],
      "source": [
        "import numpy as np\n",
        "import matplotlib.pyplot as plt\n",
        "from sklearn import svm, datasets\n",
        "\n",
        "\n",
        "def make_meshgrid(x, y, h=.02):\n",
        "    \"\"\"Create a mesh of points to plot in\n",
        "\n",
        "    Parameters\n",
        "    ----------\n",
        "    x: data to base x-axis meshgrid on\n",
        "    y: data to base y-axis meshgrid on\n",
        "    h: stepsize for meshgrid, optional\n",
        "\n",
        "    Returns\n",
        "    -------\n",
        "    xx, yy : ndarray\n",
        "    \"\"\"\n",
        "    x_min, x_max = x.min() - 1, x.max() + 1\n",
        "    y_min, y_max = y.min() - 1, y.max() + 1\n",
        "    xx, yy = np.meshgrid(np.arange(x_min, x_max, h),\n",
        "                         np.arange(y_min, y_max, h))\n",
        "    return xx, yy\n",
        "\n",
        "\n",
        "def plot_contours(ax, clf, xx, yy, **params):\n",
        "    \"\"\"Plot the decision boundaries for a classifier.\n",
        "\n",
        "    Parameters\n",
        "    ----------\n",
        "    ax: matplotlib axes object\n",
        "    clf: a classifier\n",
        "    xx: meshgrid ndarray\n",
        "    yy: meshgrid ndarray\n",
        "    params: dictionary of params to pass to contourf, optional\n",
        "    \"\"\"\n",
        "    Z = clf.predict(np.c_[xx.ravel(), yy.ravel()])\n",
        "    Z = Z.reshape(xx.shape)\n",
        "    out = ax.contourf(xx, yy, Z, **params)\n",
        "    return out\n",
        "\n",
        "\n",
        "# import some data to play with\n",
        "iris = datasets.load_iris()\n",
        "\n",
        "# Take the first two features. We could avoid this by using a two-dim dataset\n",
        "X = iris.data[:, :2]\n",
        "y = iris.target\n",
        "\n",
        "# we create an instance of SVM and fit out data. We do not scale our\n",
        "# data since we want to plot the support vectors\n",
        "C = 1.0  # SVM regularization parameter\n",
        "models = (svm.SVC(kernel='linear', C=C),\n",
        "          svm.LinearSVC(C=C),\n",
        "          svm.SVC(kernel='rbf', gamma=0.7, C=C),\n",
        "          svm.SVC(kernel='poly', degree=3, C=C))\n",
        "models = (clf.fit(X, y) for clf in models)\n",
        "\n",
        "# title for the plots\n",
        "titles = ('SVC with linear kernel',\n",
        "          'LinearSVC (linear kernel)',\n",
        "          'SVC with RBF kernel',\n",
        "          'SVC with polynomial (degree 3) kernel')\n",
        "\n",
        "# Set-up 2x2 grid for plotting.\n",
        "fig, sub = plt.subplots(2, 2)\n",
        "plt.subplots_adjust(wspace=0.4, hspace=0.4)\n",
        "\n",
        "X0, X1 = X[:, 0], X[:, 1]\n",
        "xx, yy = make_meshgrid(X0, X1)\n",
        "\n",
        "for clf, title, ax in zip(models, titles, sub.flatten()):\n",
        "    plot_contours(ax, clf, xx, yy,\n",
        "                  cmap=plt.cm.coolwarm, alpha=0.8)\n",
        "    ax.scatter(X0, X1, c=y, cmap=plt.cm.coolwarm, s=20, edgecolors='k')\n",
        "    ax.set_xlim(xx.min(), xx.max())\n",
        "    ax.set_ylim(yy.min(), yy.max())\n",
        "    ax.set_xlabel('Sepal length')\n",
        "    ax.set_ylabel('Sepal width')\n",
        "    ax.set_xticks(())\n",
        "    ax.set_yticks(())\n",
        "    ax.set_title(title)\n",
        "\n",
        "plt.show()\n"
      ],
      "id": "InfSxgGR9zA4"
    },
    {
      "cell_type": "markdown",
      "metadata": {
        "id": "fP0LeIFR9zA5"
      },
      "source": [
        "# Tensorboard Practical"
      ],
      "id": "fP0LeIFR9zA5"
    },
    {
      "cell_type": "markdown",
      "metadata": {
        "id": "HrpF467S9zA5"
      },
      "source": [
        "### Q1."
      ],
      "id": "HrpF467S9zA5"
    },
    {
      "cell_type": "code",
      "execution_count": null,
      "metadata": {
        "id": "UYMADHBt9zA6",
        "outputId": "e2832b87-e939-4c3e-8d2d-64cf6afbeac6"
      },
      "outputs": [
        {
          "name": "stdout",
          "output_type": "stream",
          "text": [
            "Tensor(\"Const_2:0\", shape=(), dtype=int32)\n",
            "Tensor(\"Const_3:0\", shape=(), dtype=int32)\n",
            "Tensor(\"Add_1:0\", shape=(), dtype=int32)\n",
            "5\n"
          ]
        }
      ],
      "source": [
        "import numpy as np\n",
        "import tensorflow.compat.v1 as tf\n",
        "tf.disable_v2_behavior()\n",
        " \n",
        "#******************************************************\n",
        "# visualzing graph with tensorboard\n",
        "\n",
        "\n",
        "a = tf.constant(2)\n",
        "b = tf.constant(3)\n",
        "x = tf.add(a,b)\n",
        "\n",
        "print(a)\n",
        "print(b)\n",
        "print(x)\n",
        "\n",
        "sess = tf.Session()\n",
        "writer = tf.summary.FileWriter('./graphs', sess.graph)\n",
        "writer.add_graph(tf.get_default_graph())\n",
        "print(sess.run(x))"
      ],
      "id": "UYMADHBt9zA6"
    },
    {
      "cell_type": "markdown",
      "metadata": {
        "id": "H4WFN7Tm9zA6"
      },
      "source": [
        "### Q2."
      ],
      "id": "H4WFN7Tm9zA6"
    },
    {
      "cell_type": "code",
      "execution_count": null,
      "metadata": {
        "id": "mdHL9-ll9zA7",
        "outputId": "189f19c0-a57a-4ec5-e953-e3ece91ec722"
      },
      "outputs": [
        {
          "name": "stdout",
          "output_type": "stream",
          "text": [
            "Tensor(\"a:0\", shape=(2,), dtype=int32)\n",
            "Tensor(\"b:0\", shape=(2,), dtype=int32)\n",
            "Tensor(\"x:0\", shape=(2,), dtype=int32)\n",
            "[5 8]\n"
          ]
        }
      ],
      "source": [
        "import numpy as np\n",
        "import tensorflow.compat.v1 as tf\n",
        "tf.disable_v2_behavior()\n",
        " \n",
        "#******************************************************\n",
        "# visualzing graph with tensorboard, with graphs node displaying name given by user\n",
        "\n",
        "\n",
        "a = tf.constant([2,2], name='a')\n",
        "b = tf.constant([3,6], name='b')\n",
        "x = tf.add(a,b, name='x')\n",
        "\n",
        "\n",
        "print(a)\n",
        "print(b)\n",
        "print(x)\n",
        "\n",
        "sess = tf.compat.v1.Session()\n",
        "writer = tf.summary.FileWriter('./graphs', sess.graph)\n",
        "writer.add_graph(tf.get_default_graph())\n",
        "print(sess.run(x))\n",
        "\n"
      ],
      "id": "mdHL9-ll9zA7"
    },
    {
      "cell_type": "markdown",
      "metadata": {
        "id": "c6iiVWAB9zA7"
      },
      "source": [
        "### Q3."
      ],
      "id": "c6iiVWAB9zA7"
    },
    {
      "cell_type": "code",
      "execution_count": null,
      "metadata": {
        "id": "OJpTFK7g9zA8",
        "outputId": "eaf0b061-7e07-45eb-80b5-cd2fa8d54452"
      },
      "outputs": [
        {
          "name": "stdout",
          "output_type": "stream",
          "text": [
            "Tensor(\"a_1:0\", shape=(1,), dtype=float32)\n",
            "Tensor(\"b_1:0\", shape=(1,), dtype=float32)\n",
            "Tensor(\"x_1:0\", shape=(1,), dtype=float32)\n",
            "Tensor(\"c:0\", shape=(1,), dtype=float32)\n",
            "Tensor(\"Mul:0\", shape=(1,), dtype=float32)\n",
            "[20.]\n"
          ]
        }
      ],
      "source": [
        "import numpy as np\n",
        "import tensorflow.compat.v1 as tf\n",
        "tf.disable_v2_behavior()\n",
        " \n",
        "#******************************************************\n",
        "# visualzing graph with tensorboard\n",
        "\n",
        "a = tf.constant([2.0], name='a')\n",
        "b = tf.constant([3.0], name='b')\n",
        "x = tf.add(a,b, name='x')\n",
        "c = tf.constant([4.0], name='c')\n",
        "y = tf.multiply(x,c)\n",
        "\n",
        "print(a)\n",
        "print(b)\n",
        "print(x)\n",
        "print(c)\n",
        "print(y)\n",
        "sess = tf.Session()\n",
        "writer = tf.summary.FileWriter('./graphs', sess.graph)\n",
        "writer.add_graph(tf.get_default_graph())\n",
        "print(sess.run(y))\n",
        "\n"
      ],
      "id": "OJpTFK7g9zA8"
    },
    {
      "cell_type": "markdown",
      "metadata": {
        "id": "F5F63juC9zA8"
      },
      "source": [
        "### Q4."
      ],
      "id": "F5F63juC9zA8"
    },
    {
      "cell_type": "code",
      "execution_count": null,
      "metadata": {
        "id": "hwKWYKW19zA9",
        "outputId": "8f0e8b42-a4f2-4f4f-b3c2-a172599904c0"
      },
      "outputs": [
        {
          "name": "stdout",
          "output_type": "stream",
          "text": [
            "Tensor(\"mat1:0\", shape=(1, 2), dtype=float32)\n",
            "Tensor(\"mat2:0\", shape=(2, 1), dtype=float32)\n",
            "Tensor(\"product:0\", shape=(1, 1), dtype=float32)\n",
            "[[23.]]\n"
          ]
        }
      ],
      "source": [
        "import numpy as np\n",
        "import tensorflow.compat.v1 as tf\n",
        "tf.disable_v2_behavior()\n",
        " \n",
        "#******************************************************\n",
        "# visualzing graph with tensorboard\n",
        "\n",
        "mat1 = tf.constant([[2., 3.]], name='mat1')\n",
        " \n",
        "mat2 = tf.constant([[4.],[5.]], name='mat2')\n",
        " \n",
        "product = tf.matmul(mat1, mat2, name='product')\n",
        "\n",
        "\n",
        "print(mat1)\n",
        "print(mat2)\n",
        "print(product)\n",
        "\n",
        "sess = tf.Session()\n",
        "writer = tf.summary.FileWriter('./graphs', sess.graph)\n",
        "writer.add_graph(tf.get_default_graph())\n",
        "print(sess.run(product))\n",
        "\n"
      ],
      "id": "hwKWYKW19zA9"
    },
    {
      "cell_type": "markdown",
      "metadata": {
        "id": "IE6Jo7cD9zA-"
      },
      "source": [
        "# Tensorboard Practical"
      ],
      "id": "IE6Jo7cD9zA-"
    },
    {
      "cell_type": "markdown",
      "metadata": {
        "id": "GRQZbF4i9zA-"
      },
      "source": [
        "# Q1."
      ],
      "id": "GRQZbF4i9zA-"
    },
    {
      "cell_type": "code",
      "execution_count": null,
      "metadata": {
        "id": "Fk8YDInE9zA-",
        "outputId": "1ebb91a5-c9b7-4262-abe8-12c375de9dee"
      },
      "outputs": [
        {
          "name": "stdout",
          "output_type": "stream",
          "text": [
            "Tensor(\"Const_6:0\", shape=(), dtype=float32)\n",
            "<tf.Variable 'Variable:0' shape=(2,) dtype=float32>\n"
          ]
        }
      ],
      "source": [
        "import numpy as np\n",
        "import tensorflow as tf\n",
        "#******************************************************\n",
        "# what is tf.Tensor\n",
        "\n",
        "a = tf.constant(3.0, dtype=tf.float32)\n",
        "print(a)\n",
        "cool_numbers  = tf.Variable([3.14159, 2.71828], tf.float32)\n",
        "print(cool_numbers)\n",
        "\n"
      ],
      "id": "Fk8YDInE9zA-"
    },
    {
      "cell_type": "markdown",
      "metadata": {
        "id": "DFC8U2Ua9zA_"
      },
      "source": [
        "### Q2"
      ],
      "id": "DFC8U2Ua9zA_"
    },
    {
      "cell_type": "code",
      "execution_count": null,
      "metadata": {
        "id": "_iMKYIu19zA_",
        "outputId": "e0f5bf58-45ba-4c72-949d-ec07ce4d9854"
      },
      "outputs": [
        {
          "name": "stdout",
          "output_type": "stream",
          "text": [
            "Tensor(\"Const_7:0\", shape=(), dtype=float32)\n",
            "Tensor(\"Const_8:0\", shape=(), dtype=float32)\n",
            "Tensor(\"add_5:0\", shape=(), dtype=float32)\n",
            "7.0\n",
            "{'ab': (3.0, 4.0), 'total': 7.0}\n",
            "[0.966766   0.27170467 0.78082955]\n",
            "[0.2431581  0.6853583  0.51854825]\n",
            "(array([1.9887156, 1.920594 , 1.1961548], dtype=float32), array([2.9887156, 2.920594 , 2.1961548], dtype=float32))\n"
          ]
        }
      ],
      "source": [
        "import numpy as np\n",
        "import tensorflow.compat.v1 as tf\n",
        "tf.disable_v2_behavior()\n",
        "#******************************************************\n",
        "#******************************************************\n",
        "# Let's build a simple computational graph \n",
        "\n",
        "a = tf.constant(3.0, dtype=tf.float32)\n",
        "b = tf.constant(4.0) # also tf.float32 implicitly\n",
        "total = a + b\n",
        "print(a)\n",
        "print(b)\n",
        "print(total)\n",
        "#******************************************************\n",
        "# The following code creates a tf.Session object and then invokes its run method to evaluate the total tensor we created\n",
        "sess = tf.Session()\n",
        "print(sess.run(total))\n",
        "\n",
        "#You can pass multiple tensors to tf.Session.run. The run method transparently handles any combination of tuples or dictionaries, as in the following example:\n",
        "\n",
        "print(sess.run({'ab':(a, b), 'total':total}))\n",
        "\n",
        "\n",
        "#During a call to tf.Session.run any tf.Tensor only has a single value. \n",
        "#For example, the following code calls tf.random_uniform to produce a tf.Tensor that generates a random 3-element vector (with values in [0,1)):\n",
        "\n",
        "vec = tf.random_uniform(shape=(3,))\n",
        "out1 = vec + 1\n",
        "out2 = vec + 2\n",
        "print(sess.run(vec))\n",
        "print(sess.run(vec))\n",
        "print(sess.run((out1, out2)))"
      ],
      "id": "_iMKYIu19zA_"
    },
    {
      "cell_type": "markdown",
      "metadata": {
        "id": "W4CNrBID9zA_"
      },
      "source": [
        "### Q3."
      ],
      "id": "W4CNrBID9zA_"
    },
    {
      "cell_type": "code",
      "execution_count": null,
      "metadata": {
        "id": "9xahfpCB9zBA",
        "outputId": "17c321fa-253e-4e38-e5c0-4975eb4fc324"
      },
      "outputs": [
        {
          "name": "stdout",
          "output_type": "stream",
          "text": [
            "Tensor(\"Const_9:0\", shape=(2, 2), dtype=float32)\n",
            "<tf.Variable 'Variable_1:0' shape=(2, 2) dtype=float32_ref>\n",
            "Tensor(\"MatMul:0\", shape=(2, 2), dtype=float32)\n",
            "Tensor(\"Softmax:0\", shape=(2, 2), dtype=float32)\n",
            "name: \"Variable_1/Assign\"\n",
            "op: \"Assign\"\n",
            "input: \"Variable_1\"\n",
            "input: \"random_uniform_2/RandomUniform\"\n",
            "attr {\n",
            "  key: \"T\"\n",
            "  value {\n",
            "    type: DT_FLOAT\n",
            "  }\n",
            "}\n",
            "attr {\n",
            "  key: \"_class\"\n",
            "  value {\n",
            "    list {\n",
            "      s: \"loc:@Variable_1\"\n",
            "    }\n",
            "  }\n",
            "}\n",
            "attr {\n",
            "  key: \"use_locking\"\n",
            "  value {\n",
            "    b: true\n",
            "  }\n",
            "}\n",
            "attr {\n",
            "  key: \"validate_shape\"\n",
            "  value {\n",
            "    b: true\n",
            "  }\n",
            "}\n",
            "\n",
            "[[5.6214458e-07 9.9999940e-01]\n",
            " [1.5072563e-01 8.4927434e-01]]\n"
          ]
        }
      ],
      "source": [
        "import numpy as np\n",
        "import tensorflow.compat.v1 as tf\n",
        "tf.disable_v2_behavior()\n",
        "\n",
        "x = tf.constant([[37.0, -23.0], [1.0, 4.0]])\n",
        "w = tf.Variable(tf.random_uniform([2, 2]))\n",
        "y = tf.matmul(x, w)\n",
        "output = tf.nn.softmax(y)\n",
        "init_op = w.initializer\n",
        "\n",
        "print(x)\n",
        "print(w)\n",
        "print(y)\n",
        "print(output)\n",
        "print(init_op)\n",
        "\n",
        "with tf.Session() as sess:\n",
        "    # Run the initializer on `w`.\n",
        "    sess.run(init_op)\n",
        "    \n",
        "    # Evaluate `output`. `sess.run(output)` will return a NumPy array containing\n",
        "    # the result of the computation.\n",
        "    \n",
        "    print(sess.run(output))\n",
        "    \n",
        "    # Evaluate `y` and `output`. Note that `y` will only be computed once, and its\n",
        "    # result used both to return `y_val` and as an input to the `tf.nn.softmax()`\n",
        "    # op. Both `y_val` and `output_val` will be NumPy arrays.\n",
        "    y_val, output_val = sess.run([y, output])"
      ],
      "id": "9xahfpCB9zBA"
    },
    {
      "cell_type": "markdown",
      "metadata": {
        "id": "Saq2UfXd9zBA"
      },
      "source": [
        "### Q4."
      ],
      "id": "Saq2UfXd9zBA"
    },
    {
      "cell_type": "code",
      "execution_count": null,
      "metadata": {
        "id": "IqUxdsOp9zBA",
        "outputId": "f8000886-2096-49a2-a995-e12b0f4497d4"
      },
      "outputs": [
        {
          "name": "stdout",
          "output_type": "stream",
          "text": [
            "7.5\n",
            "[3. 7.]\n"
          ]
        }
      ],
      "source": [
        "import numpy as np\n",
        "import tensorflow.compat.v1 as tf\n",
        "tf.disable_v2_behavior()\n",
        "#******************************************************\n",
        "# Feeding\n",
        "x = tf.placeholder(tf.float32)\n",
        "y = tf.placeholder(tf.float32)\n",
        "z = x + y\n",
        "\n",
        "#We can evaluate this graph with multiple inputs by using the feed_dict argument of the run method to feed concrete values to the placeholder. feed_dict argument can be used to overwrite any tensor in the graph.\n",
        "sess = tf.Session()\n",
        "print(sess.run(z, feed_dict={x: 3, y: 4.5}))\n",
        "print(sess.run(z, feed_dict={x: [1, 3], y: [2, 4]}))\n"
      ],
      "id": "IqUxdsOp9zBA"
    },
    {
      "cell_type": "code",
      "execution_count": null,
      "metadata": {
        "id": "cBhowt049zBB",
        "outputId": "f2aefe44-4162-4992-e6ea-c6f688b2ef3e"
      },
      "outputs": [
        {
          "data": {
            "text/plain": [
              "5"
            ]
          },
          "execution_count": 68,
          "metadata": {},
          "output_type": "execute_result"
        }
      ],
      "source": [
        "5"
      ],
      "id": "cBhowt049zBB"
    },
    {
      "cell_type": "code",
      "execution_count": null,
      "metadata": {
        "id": "V6IlKAqk9zBB",
        "outputId": "9c370ea6-bc6c-4b12-cbe6-060bfe73b3da"
      },
      "outputs": [
        {
          "name": "stdout",
          "output_type": "stream",
          "text": [
            "[1. 4. 9.]\n",
            "[ 0.  0. 25.]\n"
          ]
        }
      ],
      "source": [
        "import numpy as np\n",
        "import tensorflow.compat.v1 as tf\n",
        "tf.disable_v2_behavior()\n",
        "#******************************************************\n",
        "# Define a placeholder that expects a vector of three floating-point values,\n",
        "# and a computation that depends on it.\n",
        "x = tf.placeholder(tf.float32, shape=[3])\n",
        "y = tf.square(x)\n",
        "\n",
        "with tf.Session() as sess:\n",
        "    # Feeding a value changes the result that is returned when you evaluate `y`.\n",
        "    print(sess.run(y, {x: [1.0, 2.0, 3.0]}))  # => \"[1.0, 4.0, 9.0]\"\n",
        "    print(sess.run(y, {x: [0.0, 0.0, 5.0]}))  # => \"[0.0, 0.0, 25.0]\"\n",
        "\n",
        "    # Raises `tf.errors.InvalidArgumentError`, because you must feed a value for\n",
        "    # a `tf.placeholder()` when evaluating a tensor that depends on it.\n",
        "    # sess.run(y)\n",
        "\n",
        "    # Raises `ValueError`, because the shape of `37.0` does not match the shape\n",
        "    # of placeholder `x`.\n",
        "    # sess.run(y, {x: 37.0})"
      ],
      "id": "V6IlKAqk9zBB"
    },
    {
      "cell_type": "code",
      "execution_count": null,
      "metadata": {
        "id": "cD0VE_Aw9zBB",
        "outputId": "c4cdcbb6-5a40-4f24-b13f-81bdc40eb3b7"
      },
      "outputs": [
        {
          "name": "stdout",
          "output_type": "stream",
          "text": [
            "[node {\n",
            "  name: \"MatMul_1/a\"\n",
            "  op: \"Const\"\n",
            "  device: \"/job:localhost/replica:0/task:0/device:CPU:0\"\n",
            "  attr {\n",
            "    key: \"_XlaHasReferenceVars\"\n",
            "    value {\n",
            "      b: false\n",
            "    }\n",
            "  }\n",
            "  attr {\n",
            "    key: \"dtype\"\n",
            "    value {\n",
            "      type: DT_FLOAT\n",
            "    }\n",
            "  }\n",
            "  attr {\n",
            "    key: \"value\"\n",
            "    value {\n",
            "      tensor {\n",
            "        dtype: DT_FLOAT\n",
            "        tensor_shape {\n",
            "          dim {\n",
            "            size: 2\n",
            "          }\n",
            "          dim {\n",
            "            size: 2\n",
            "          }\n",
            "        }\n",
            "        tensor_content: \"\\000\\000\\024B\\000\\000\\270\\301\\000\\000\\200?\\000\\000\\200@\"\n",
            "      }\n",
            "    }\n",
            "  }\n",
            "}\n",
            "node {\n",
            "  name: \"random_uniform_3/shape\"\n",
            "  op: \"Const\"\n",
            "  device: \"/job:localhost/replica:0/task:0/device:CPU:0\"\n",
            "  attr {\n",
            "    key: \"_XlaHasReferenceVars\"\n",
            "    value {\n",
            "      b: false\n",
            "    }\n",
            "  }\n",
            "  attr {\n",
            "    key: \"dtype\"\n",
            "    value {\n",
            "      type: DT_INT32\n",
            "    }\n",
            "  }\n",
            "  attr {\n",
            "    key: \"value\"\n",
            "    value {\n",
            "      tensor {\n",
            "        dtype: DT_INT32\n",
            "        tensor_shape {\n",
            "          dim {\n",
            "            size: 2\n",
            "          }\n",
            "        }\n",
            "        int_val: 2\n",
            "      }\n",
            "    }\n",
            "  }\n",
            "}\n",
            "node {\n",
            "  name: \"random_uniform_3/RandomUniform\"\n",
            "  op: \"RandomUniform\"\n",
            "  input: \"random_uniform_3/shape\"\n",
            "  device: \"/job:localhost/replica:0/task:0/device:CPU:0\"\n",
            "  attr {\n",
            "    key: \"T\"\n",
            "    value {\n",
            "      type: DT_INT32\n",
            "    }\n",
            "  }\n",
            "  attr {\n",
            "    key: \"_XlaHasReferenceVars\"\n",
            "    value {\n",
            "      b: false\n",
            "    }\n",
            "  }\n",
            "  attr {\n",
            "    key: \"dtype\"\n",
            "    value {\n",
            "      type: DT_FLOAT\n",
            "    }\n",
            "  }\n",
            "  attr {\n",
            "    key: \"seed\"\n",
            "    value {\n",
            "      i: 0\n",
            "    }\n",
            "  }\n",
            "  attr {\n",
            "    key: \"seed2\"\n",
            "    value {\n",
            "      i: 0\n",
            "    }\n",
            "  }\n",
            "}\n",
            "node {\n",
            "  name: \"MatMul_1\"\n",
            "  op: \"MatMul\"\n",
            "  input: \"MatMul_1/a\"\n",
            "  input: \"random_uniform_3/RandomUniform\"\n",
            "  device: \"/job:localhost/replica:0/task:0/device:CPU:0\"\n",
            "  attr {\n",
            "    key: \"T\"\n",
            "    value {\n",
            "      type: DT_FLOAT\n",
            "    }\n",
            "  }\n",
            "  attr {\n",
            "    key: \"_XlaHasReferenceVars\"\n",
            "    value {\n",
            "      b: false\n",
            "    }\n",
            "  }\n",
            "  attr {\n",
            "    key: \"transpose_a\"\n",
            "    value {\n",
            "      b: false\n",
            "    }\n",
            "  }\n",
            "  attr {\n",
            "    key: \"transpose_b\"\n",
            "    value {\n",
            "      b: false\n",
            "    }\n",
            "  }\n",
            "}\n",
            "node {\n",
            "  name: \"_retval_MatMul_1_0_0\"\n",
            "  op: \"_Retval\"\n",
            "  input: \"MatMul_1\"\n",
            "  device: \"/job:localhost/replica:0/task:0/device:CPU:0\"\n",
            "  attr {\n",
            "    key: \"T\"\n",
            "    value {\n",
            "      type: DT_FLOAT\n",
            "    }\n",
            "  }\n",
            "  attr {\n",
            "    key: \"_XlaHasReferenceVars\"\n",
            "    value {\n",
            "      b: false\n",
            "    }\n",
            "  }\n",
            "  attr {\n",
            "    key: \"index\"\n",
            "    value {\n",
            "      i: 0\n",
            "    }\n",
            "  }\n",
            "}\n",
            "library {\n",
            "}\n",
            "versions {\n",
            "  producer: 1087\n",
            "}\n",
            "]\n",
            "dev_stats {\n",
            "  device: \"/job:localhost/replica:0/task:0/device:CPU:0\"\n",
            "  node_stats {\n",
            "    node_name: \"_SOURCE\"\n",
            "    all_start_micros: 1653256025291580\n",
            "    all_end_rel_micros: 1\n",
            "    timeline_label: \"_SOURCE = NoOp()\"\n",
            "    scheduled_micros: 11495802731396906\n",
            "    all_start_nanos: 1653256025291580400\n",
            "    op_start_rel_nanos: 200\n",
            "    op_end_rel_nanos: 300\n",
            "    all_end_rel_nanos: 900\n",
            "    scheduled_nanos: -6950941342312645440\n",
            "  }\n",
            "  node_stats {\n",
            "    node_name: \"MatMul_1/a\"\n",
            "    all_start_micros: 1653256025291588\n",
            "    op_start_rel_micros: 2\n",
            "    op_end_rel_micros: 568\n",
            "    all_end_rel_micros: 587\n",
            "    output {\n",
            "      tensor_description {\n",
            "        dtype: DT_FLOAT\n",
            "        shape {\n",
            "          dim {\n",
            "            size: 2\n",
            "          }\n",
            "          dim {\n",
            "            size: 2\n",
            "          }\n",
            "        }\n",
            "        allocation_description {\n",
            "          requested_bytes: 16\n",
            "          allocator_name: \"cpu\"\n",
            "          ptr: 2033876374080\n",
            "        }\n",
            "      }\n",
            "    }\n",
            "    timeline_label: \"MatMul_1/a = Const()\"\n",
            "    scheduled_micros: 11495802731431106\n",
            "    memory_stats {\n",
            "      persistent_memory_size: 16\n",
            "    }\n",
            "    all_start_nanos: 1653256025291588100\n",
            "    op_start_rel_nanos: 1900\n",
            "    op_end_rel_nanos: 568000\n",
            "    all_end_rel_nanos: 587600\n",
            "    scheduled_nanos: -6950941342278445440\n",
            "  }\n",
            "  node_stats {\n",
            "    node_name: \"random_uniform_3/shape\"\n",
            "    all_start_micros: 1653256025292189\n",
            "    op_start_rel_micros: 3\n",
            "    op_end_rel_micros: 6\n",
            "    all_end_rel_micros: 8\n",
            "    output {\n",
            "      tensor_description {\n",
            "        dtype: DT_INT32\n",
            "        shape {\n",
            "          dim {\n",
            "            size: 2\n",
            "          }\n",
            "        }\n",
            "        allocation_description {\n",
            "          requested_bytes: 8\n",
            "          allocator_name: \"cpu\"\n",
            "          ptr: 2033876374400\n",
            "        }\n",
            "      }\n",
            "    }\n",
            "    timeline_label: \"random_uniform_3/shape = Const()\"\n",
            "    scheduled_micros: 11495802732024306\n",
            "    memory_stats {\n",
            "      persistent_memory_size: 8\n",
            "    }\n",
            "    all_start_nanos: 1653256025292189600\n",
            "    op_start_rel_nanos: 3200\n",
            "    op_end_rel_nanos: 5400\n",
            "    all_end_rel_nanos: 8200\n",
            "    scheduled_nanos: -6950941341685245440\n",
            "  }\n",
            "  node_stats {\n",
            "    node_name: \"random_uniform_3/RandomUniform\"\n",
            "    all_start_micros: 1653256025292201\n",
            "    op_end_rel_micros: 1016\n",
            "    all_end_rel_micros: 1032\n",
            "    memory {\n",
            "      allocator_name: \"cpu\"\n",
            "      total_bytes: 16\n",
            "      peak_bytes: 16\n",
            "      live_bytes: 16\n",
            "      allocation_records {\n",
            "        alloc_micros: 1653256025293197\n",
            "        alloc_bytes: 16\n",
            "      }\n",
            "      allocation_records {\n",
            "        alloc_micros: 1653256025294972\n",
            "        alloc_bytes: -16\n",
            "      }\n",
            "    }\n",
            "    output {\n",
            "      tensor_description {\n",
            "        dtype: DT_FLOAT\n",
            "        shape {\n",
            "          dim {\n",
            "            size: 2\n",
            "          }\n",
            "          dim {\n",
            "            size: 2\n",
            "          }\n",
            "        }\n",
            "        allocation_description {\n",
            "          requested_bytes: 16\n",
            "          allocated_bytes: 16\n",
            "          allocator_name: \"cpu\"\n",
            "          allocation_id: 1\n",
            "          has_single_reference: true\n",
            "          ptr: 2033876375168\n",
            "        }\n",
            "      }\n",
            "    }\n",
            "    timeline_label: \"random_uniform_3/RandomUniform = RandomUniform(random_uniform_3/shape)\"\n",
            "    scheduled_micros: 11495802732047706\n",
            "    memory_stats {\n",
            "    }\n",
            "    all_start_nanos: 1653256025292201200\n",
            "    op_start_rel_nanos: 200\n",
            "    op_end_rel_nanos: 1015900\n",
            "    all_end_rel_nanos: 1032500\n",
            "    scheduled_nanos: -6950941341661845440\n",
            "  }\n",
            "  node_stats {\n",
            "    node_name: \"MatMul_1\"\n",
            "    all_start_micros: 1653256025294887\n",
            "    op_start_rel_micros: 5\n",
            "    op_end_rel_micros: 68\n",
            "    all_end_rel_micros: 87\n",
            "    memory {\n",
            "      allocator_name: \"cpu\"\n",
            "      total_bytes: 16\n",
            "      peak_bytes: 16\n",
            "      live_bytes: 16\n",
            "      allocation_records {\n",
            "        alloc_micros: 1653256025294913\n",
            "        alloc_bytes: 16\n",
            "      }\n",
            "    }\n",
            "    output {\n",
            "      tensor_description {\n",
            "        dtype: DT_FLOAT\n",
            "        shape {\n",
            "          dim {\n",
            "            size: 2\n",
            "          }\n",
            "          dim {\n",
            "            size: 2\n",
            "          }\n",
            "        }\n",
            "        allocation_description {\n",
            "          requested_bytes: 16\n",
            "          allocated_bytes: 16\n",
            "          allocator_name: \"cpu\"\n",
            "          allocation_id: 1\n",
            "          has_single_reference: true\n",
            "          ptr: 2033876375616\n",
            "        }\n",
            "      }\n",
            "    }\n",
            "    timeline_label: \"MatMul_1 = MatMul(MatMul_1/a, random_uniform_3/RandomUniform)\"\n",
            "    scheduled_micros: 11495802733083506\n",
            "    memory_stats {\n",
            "    }\n",
            "    all_start_nanos: 1653256025294887400\n",
            "    op_start_rel_nanos: 5200\n",
            "    op_end_rel_nanos: 67900\n",
            "    all_end_rel_nanos: 87500\n",
            "    scheduled_nanos: -6950941340626045440\n",
            "  }\n",
            "  node_stats {\n",
            "    node_name: \"_retval_MatMul_1_0_0\"\n",
            "    all_start_micros: 1653256025294980\n",
            "    op_start_rel_micros: 1\n",
            "    op_end_rel_micros: 4\n",
            "    all_end_rel_micros: 5\n",
            "    timeline_label: \"_retval_MatMul_1_0_0 = _Retval(MatMul_1)\"\n",
            "    scheduled_micros: 11495802734824406\n",
            "    memory_stats {\n",
            "    }\n",
            "    all_start_nanos: 1653256025294980700\n",
            "    op_start_rel_nanos: 800\n",
            "    op_end_rel_nanos: 4000\n",
            "    all_end_rel_nanos: 5200\n",
            "    scheduled_nanos: -6950941338885145440\n",
            "  }\n",
            "}\n",
            "\n"
          ]
        }
      ],
      "source": [
        "import numpy as np\n",
        "import tensorflow.compat.v1 as tf\n",
        "tf.disable_v2_behavior()\n",
        "#******************************************************\n",
        "#tf.Session.run also accepts an optional options argument that enables you to specify options about the call, and an optional run_metadata argument that enables you to collect metadata about the execution. For example, you can use these options together to collect tracing information about the execution:\n",
        "\n",
        "\n",
        "y = tf.matmul([[37.0, -23.0], [1.0, 4.0]], tf.random_uniform([2, 2]))\n",
        "\n",
        "with tf.Session() as sess:\n",
        "    # Define options for the `sess.run()` call.\n",
        "    options = tf.RunOptions()\n",
        "    options.output_partition_graphs = True\n",
        "    options.trace_level = tf.RunOptions.FULL_TRACE\n",
        "\n",
        "    # Define a container for the returned metadata.\n",
        "    metadata = tf.RunMetadata()\n",
        "\n",
        "    sess.run(y, options=options, run_metadata=metadata)\n",
        "\n",
        "    # Print the subgraphs that executed on each device.\n",
        "    print(metadata.partition_graphs)\n",
        "\n",
        "    # Print the timings of each operation that executed.\n",
        "    print(metadata.step_stats)\n",
        "    "
      ],
      "id": "cD0VE_Aw9zBB"
    },
    {
      "cell_type": "markdown",
      "source": [
        "### Q. Implement ID3 Decision Tree "
      ],
      "metadata": {
        "id": "fOGi8pGC9-CO"
      },
      "id": "fOGi8pGC9-CO"
    },
    {
      "cell_type": "code",
      "source": [
        "import pandas as pd\n",
        "import numpy as np\n",
        "from pprint import pprint\n",
        "\n",
        "dataset = pd.read_csv('tennis.csv')\n",
        "\n",
        "dataset.drop('Day', axis=1, inplace=True)\n",
        "\n",
        "def entropy(target_col):\n",
        "\n",
        "    elements, counts = np.unique(target_col, return_counts=True)\n",
        "    entropy = np.sum([(-counts[i]/np.sum(counts))*np.log2(counts[i] / np.sum(counts)) for i in range(len(elements))])\n",
        "    return entropy\n",
        "\n",
        "def information_gain(data, split_attribute_name, target_name=\"Tennis\"):\n",
        "\n",
        "    total_entropy = entropy(data[target_name])\n",
        "    vals, counts = np.unique(data[split_attribute_name], return_counts=True)\n",
        "\n",
        "    Weighted_Entropy = np.sum([(counts[i]/np.sum(counts))*entropy(data.where(\n",
        "        data[split_attribute_name] == vals[i]).dropna()[target_name]) for i in range(len(vals))])\n",
        "\n",
        "    gain = total_entropy - Weighted_Entropy\n",
        "    return gain\n",
        "\n",
        "def ID3(data, originaldata, features, target_attribute_name, parent_node_class=None):\n",
        "\n",
        "    if len(np.unique(data[target_attribute_name])) <= 1:\n",
        "        return np.unique(data[target_attribute_name])[0]\n",
        "\n",
        "    elif len(data) == 0:\n",
        "        return np.unique(originaldata[target_attribute_name])[np.argmax(np.unique(originaldata[target_attribute_name], return_counts=True)[1])]\n",
        "\n",
        "    elif len(features) == 0:\n",
        "        return parent_node_class\n",
        "\n",
        "    else:\n",
        "        parent_node_class = np.unique(data[target_attribute_name])[np.argmax(\n",
        "            np.unique(data[target_attribute_name], return_counts=True)[1])]\n",
        "\n",
        "        item_values = [information_gain(data, feature, target_attribute_name) for feature in features]\n",
        "        best_feature_index = np.argmax(item_values)\n",
        "        best_feature = features[best_feature_index]\n",
        "\n",
        "        tree = {best_feature: {}}\n",
        "\n",
        "        features = [i for i in features if i != best_feature]\n",
        "        for value in np.unique(data[best_feature]):\n",
        "            value = value\n",
        "            sub_data = data.where(data[best_feature] == value).dropna()\n",
        "\n",
        "            subtree = ID3(sub_data, dataset, features,\n",
        "                          target_attribute_name, parent_node_class)\n",
        "\n",
        "            tree[best_feature][value] = subtree\n",
        "\n",
        "        return(tree)\n",
        "\n",
        "def predict(query, tree, default=1):\n",
        "\n",
        "    for key in list(query.keys()):\n",
        "        if key in list(tree.keys()):\n",
        "\n",
        "            try:\n",
        "                result = tree[key][query[key]]\n",
        "            except:\n",
        "                return default\n",
        "\n",
        "            result = tree[key][query[key]]\n",
        "\n",
        "            if isinstance(result, dict):\n",
        "                return predict(query, result)\n",
        "            else:\n",
        "                return result\n",
        "\n",
        "def train_test_split(dataset):\n",
        "    training_data = dataset.iloc[:11].reset_index(drop=True)\n",
        "    testing_data = dataset.iloc[11:].reset_index(drop=True)\n",
        "    return training_data, testing_data\n",
        "\n",
        "training_data = train_test_split(dataset)[0]\n",
        "testing_data = train_test_split(dataset)[1]\n",
        "\n",
        "def test(data, tree):\n",
        "    queries = data.iloc[:, :-1].to_dict(orient=\"records\")\n",
        "\n",
        "    predicted = pd.DataFrame(columns=[\"predicted\"])\n",
        "    for i in range(len(data)):\n",
        "        predicted.loc[i, \"predicted\"] = predict(queries[i], tree, 1.0)\n",
        "    print('The prediction accuracy is: ',\n",
        "          (np.sum(predicted[\"predicted\"] == data[\"Tennis\"])/len(data))*100, '%')\n",
        "\n",
        "\n",
        "if __name__==\"__main__\":\n",
        "    tree = ID3(training_data, training_data, training_data.columns[:-1], target_attribute_name=\"Tennis\")\n",
        "    pprint(tree)\n",
        "    test(testing_data, tree)"
      ],
      "metadata": {
        "colab": {
          "base_uri": "https://localhost:8080/"
        },
        "id": "J-a-yA4998zl",
        "outputId": "8e04f9b4-e749-4ca7-843e-aaad7c44b8eb"
      },
      "id": "J-a-yA4998zl",
      "execution_count": null,
      "outputs": [
        {
          "output_type": "stream",
          "name": "stdout",
          "text": [
            "{'Outlook': {'Overcast': 'Yes',\n",
            "             'Rain': {'Wind': {'Strong': 'No', 'Weak': 'Yes'}},\n",
            "             'Sunny': {'Humidity': {'High': 'No', 'Normal': 'Yes'}}}}\n",
            "The prediction accuracy is:  100.0 %\n"
          ]
        }
      ]
    },
    {
      "cell_type": "markdown",
      "source": [
        "### Q. Implement AND Gate using mcculloch pitts neuron"
      ],
      "metadata": {
        "id": "_kshUdua_M-A"
      },
      "id": "_kshUdua_M-A"
    },
    {
      "cell_type": "code",
      "source": [
        "import numpy as np\n",
        "\n",
        "def threshold_function(in_vector, threshold):\n",
        "  if in_vector >= threshold:\n",
        "    return 1\n",
        "  else:\n",
        "    return 0\n",
        "\n",
        "input_pairs = np.array([[0,0],[0,1],[1,0],[1,1]])\n",
        "print(f'Input Array:\\n {input_pairs}')\n",
        "\n",
        "weights = np.array([1,1])\n",
        "print(f'Weights:\\n {weights}')\n",
        "\n",
        "bias = np.array([-1,-1,-1,-1])\n",
        "matrix_multiply = input_pairs @ weights\n",
        "total_input = matrix_multiply + bias\n",
        "print(f'Total input:\\n {total_input}')\n",
        "\n",
        "T = 1\n",
        "print(f'AND gate || Threshold: {T}')\n",
        "\n",
        "for i in range(0,4):\n",
        "  output = threshold_function(total_input[i], T)\n",
        "  print(f'Output: {output}')"
      ],
      "metadata": {
        "colab": {
          "base_uri": "https://localhost:8080/"
        },
        "id": "MoSeode9-usw",
        "outputId": "4f708558-f0ac-4121-a600-fdfd97fb0e5a"
      },
      "id": "MoSeode9-usw",
      "execution_count": null,
      "outputs": [
        {
          "output_type": "stream",
          "name": "stdout",
          "text": [
            "Input Array:\n",
            " [[0 0]\n",
            " [0 1]\n",
            " [1 0]\n",
            " [1 1]]\n",
            "Weights:\n",
            " [1 1]\n",
            "Total input:\n",
            " [-1  0  0  1]\n",
            "AND gate || Threshold: 1\n",
            "Output: 0\n",
            "Output: 0\n",
            "Output: 0\n",
            "Output: 1\n"
          ]
        }
      ]
    },
    {
      "cell_type": "markdown",
      "source": [
        "### Q. Implement NOR Gate using mcculloch pitts neuron"
      ],
      "metadata": {
        "id": "36DSC0tj_loh"
      },
      "id": "36DSC0tj_loh"
    },
    {
      "cell_type": "code",
      "source": [
        "import numpy as np\n",
        "\n",
        "def threshold_function(in_vector, threshold):\n",
        "  if in_vector >= threshold:\n",
        "    return 1\n",
        "  else:\n",
        "    return 0\n",
        "\n",
        "input_pairs = np.array([[0,0],[0,1],[1,0],[1,1]])\n",
        "print(f'Input Array:\\n {input_pairs}')\n",
        "\n",
        "weights = np.array([-1,-1])\n",
        "print(f'Weights:\\n {weights}')\n",
        "\n",
        "bias = np.array([1,1,1,1])\n",
        "matrix_multiply = input_pairs @ weights\n",
        "total_input = matrix_multiply + bias\n",
        "print(f'Total input:\\n {total_input}')\n",
        "\n",
        "T = 1\n",
        "print(f'NOR gate || Threshold: {T}')\n",
        "\n",
        "for i in range(0,4):\n",
        "  output = threshold_function(total_input[i], T)\n",
        "  print(f'Output: {output}')"
      ],
      "metadata": {
        "colab": {
          "base_uri": "https://localhost:8080/"
        },
        "id": "BBjv55GI_jNO",
        "outputId": "54db5a06-0254-4191-9ab8-a484b707d95e"
      },
      "id": "BBjv55GI_jNO",
      "execution_count": null,
      "outputs": [
        {
          "output_type": "stream",
          "name": "stdout",
          "text": [
            "Input Array:\n",
            " [[0 0]\n",
            " [0 1]\n",
            " [1 0]\n",
            " [1 1]]\n",
            "Weights:\n",
            " [-1 -1]\n",
            "Total input:\n",
            " [ 1  0  0 -1]\n",
            "NOR gate || Threshold: 1\n",
            "Output: 1\n",
            "Output: 0\n",
            "Output: 0\n",
            "Output: 0\n"
          ]
        }
      ]
    },
    {
      "cell_type": "markdown",
      "source": [
        "### Q. Implement XOR Gate using mcculloch pitts neuron"
      ],
      "metadata": {
        "id": "lfx5I6NN_p9i"
      },
      "id": "lfx5I6NN_p9i"
    },
    {
      "cell_type": "code",
      "source": [
        "import numpy as np\n",
        "\n",
        "def threshold_function(in_vector, threshold):\n",
        "  if in_vector >= threshold:\n",
        "    return 1\n",
        "  else:\n",
        "    return 0\n",
        "\n",
        "def AND(in_vector):\n",
        "  weights = np.array([1,1])\n",
        "  bias = np.array([-1,-1,-1,-1])\n",
        "  matrix_multiply = input_pairs @ weights\n",
        "  total_input = matrix_multiply + bias\n",
        "\n",
        "  return total_input\n",
        "\n",
        "def NOR(in_vector):\n",
        "  weights = np.array([-1,-1])\n",
        "  bias = np.array([1,1,1,1])\n",
        "  matrix_multiply = input_pairs @ weights\n",
        "  total_input = matrix_multiply + bias\n",
        "\n",
        "  return total_input\n",
        "\n",
        "input_pairs = np.array([[0,0],[0,1],[1,0],[1,1]])\n",
        "print(f'Input Array:\\n {input_pairs}')\n",
        "\n",
        "and_input = AND(input_pairs)\n",
        "and_output=[0,0,0,0]\n",
        "\n",
        "T=1\n",
        "for i in range(0,4):\n",
        "  and_output[i] = threshold_function(and_input[i], T)\n",
        "\n",
        "nor_input = NOR(input_pairs)\n",
        "nor_output=[0,0,0,0]\n",
        "\n",
        "for i in range(0,4):\n",
        "  nor_output[i] = threshold_function(nor_input[i], T)\n",
        "\n",
        "inputs = np.array([[and_output[0],nor_output[0]],[and_output[1],nor_output[1]], [and_output[2],nor_output[2]],[and_output[3],nor_output[3]]])\n",
        "weights = np.array([1,1])\n",
        "print(f'Weights:\\n {weights}')\n",
        "\n",
        "bias = np.array([-1,-1,-1,-1])\n",
        "matrix_multiply = inputs @ weights\n",
        "total_input = matrix_multiply + bias\n",
        "print(f'Total input:\\n {total_input}')\n",
        "\n",
        "T = 0\n",
        "print(f'XOR gate || Threshold: {T}')\n",
        "\n",
        "for i in range(0,4):\n",
        "  output = threshold_function(total_input[i], T)\n",
        "  print(f'Output: {output}')"
      ],
      "metadata": {
        "colab": {
          "base_uri": "https://localhost:8080/"
        },
        "id": "jTDwUbrm_tEu",
        "outputId": "20df45c9-3ebf-4712-df5f-68d602022689"
      },
      "id": "jTDwUbrm_tEu",
      "execution_count": null,
      "outputs": [
        {
          "output_type": "stream",
          "name": "stdout",
          "text": [
            "Input Array:\n",
            " [[0 0]\n",
            " [0 1]\n",
            " [1 0]\n",
            " [1 1]]\n",
            "Weights:\n",
            " [1 1]\n",
            "Total input:\n",
            " [ 0 -1 -1  0]\n",
            "XOR gate || Threshold: 0\n",
            "Output: 1\n",
            "Output: 0\n",
            "Output: 0\n",
            "Output: 1\n"
          ]
        }
      ]
    },
    {
      "cell_type": "code",
      "source": [
        "import numpy as np\n",
        "def Threshold_fun(inp, th):\n",
        "    if(inp>=th):\n",
        "        return 1\n",
        "    else:\n",
        "        return 0\n",
        "        \n",
        "def OR(input_vec):\n",
        "    weights = np.array([1, 1])\n",
        "    bias = np.array([-1,-1,-1,-1])\n",
        "    mat_mul = input_vec@weights\n",
        "    total_ip = mat_mul+bias\n",
        "    return total_ip\n",
        "\n",
        "def NAND(input_vec):\n",
        "    weights= np.array([-1, -1])\n",
        "    bias = np.array([1,1,1,1])\n",
        "    mat_mul = input_vec@weights\n",
        "    total_ip = mat_mul+bias\n",
        "    return total_ip\n",
        "\n",
        "input_vector = np.array([[0,0],[0,1],[1,0],[1,1]])\n",
        "\n",
        "or_input = OR(input_vector)\n",
        "or_output = [0,0,0,0]\n",
        "Th = 0\n",
        "for i in range(0,4):\n",
        "    or_output[i] = Threshold_fun(or_input[i], Th)\n",
        "print('OR output: ', or_output)\n",
        "\n",
        "nand_input = NAND(input_vector)\n",
        "nand_output = [0,0,0,0]\n",
        "for i in range(0,4):\n",
        "    nand_output[i] = Threshold_fun(nand_input[i], Th)\n",
        "print('NAND output: ', nand_output)\n",
        "input_vector = np.array([[or_output[0],nand_output[0]],[or_output[1],nand_output[1]], [or_output[2], nand_output[2]], [or_output[3],nand_output[3]]])\n",
        "\n",
        "weights = np.array([1,1])\n",
        "bias = np.array([-1.5, -1.5, -1.5, -1.5])\n",
        "mat_mul = input_vector@weights\n",
        "total_in = mat_mul + bias\n",
        "\n",
        "for i in range(0,4):\n",
        "    output = Threshold_fun(total_in[i],Th)\n",
        "    print(output)"
      ],
      "metadata": {
        "id": "-opt6EVqEdGu",
        "outputId": "bbe8ff94-36c3-4cb7-8264-101fde4a8bbd",
        "colab": {
          "base_uri": "https://localhost:8080/"
        }
      },
      "id": "-opt6EVqEdGu",
      "execution_count": null,
      "outputs": [
        {
          "output_type": "stream",
          "name": "stdout",
          "text": [
            "OR output:  [0, 1, 1, 1]\n",
            "NAND output:  [1, 1, 1, 0]\n",
            "0\n",
            "1\n",
            "1\n",
            "0\n"
          ]
        }
      ]
    }
  ],
  "metadata": {
    "kernelspec": {
      "display_name": "Python 3",
      "language": "python",
      "name": "python3"
    },
    "language_info": {
      "codemirror_mode": {
        "name": "ipython",
        "version": 3
      },
      "file_extension": ".py",
      "mimetype": "text/x-python",
      "name": "python",
      "nbconvert_exporter": "python",
      "pygments_lexer": "ipython3",
      "version": "3.8.3"
    },
    "colab": {
      "name": "Neural_and_ML_Lab.ipynb",
      "provenance": [],
      "collapsed_sections": []
    }
  },
  "nbformat": 4,
  "nbformat_minor": 5
}