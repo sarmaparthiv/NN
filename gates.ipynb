{
 "cells": [
  {
   "cell_type": "code",
   "execution_count": null,
   "metadata": {},
   "outputs": [],
   "source": []
  },
  {
   "cell_type": "code",
   "execution_count": null,
   "metadata": {},
   "outputs": [],
   "source": [
    "#GATES(OR,NAND,XOR)"
   ]
  },
  {
   "cell_type": "code",
   "execution_count": 61,
   "metadata": {},
   "outputs": [],
   "source": [
    "import numpy as np"
   ]
  },
  {
   "cell_type": "code",
   "execution_count": 62,
   "metadata": {},
   "outputs": [],
   "source": [
    "def thresold_fun(inp,th):\n",
    "    if(inp>=th):\n",
    "        return 1\n",
    "    else:\n",
    "        return 0\n",
    "    "
   ]
  },
  {
   "cell_type": "code",
   "execution_count": 63,
   "metadata": {},
   "outputs": [],
   "source": [
    "def OR(input_vec):\n",
    "    weights=np.array([1,1])\n",
    "    bias=np.array([-1,-1,-1,-1])\n",
    "    mat_mul=input_vec @ weights # @ operator used for matrix multiplication \n",
    "    total_ip=mat_mul+bias\n",
    "    return total_ip"
   ]
  },
  {
   "cell_type": "code",
   "execution_count": 64,
   "metadata": {},
   "outputs": [],
   "source": [
    "def NAND(input_vec):\n",
    "    weights=np.array([-1,-1])\n",
    "    bias=np.array([1,1,1,1])\n",
    "    mat_mul=input_vec @ weights\n",
    "    total_ip=mat_mul+bias\n",
    "    return total_ip"
   ]
  },
  {
   "cell_type": "code",
   "execution_count": 75,
   "metadata": {},
   "outputs": [],
   "source": [
    "input_vector=np.array([[0,0],[0,1],[1,0],[1,1]])"
   ]
  },
  {
   "cell_type": "code",
   "execution_count": 76,
   "metadata": {},
   "outputs": [],
   "source": [
    "or_input=OR(input_vector)\n",
    "or_output=[0,0,0,0]\n"
   ]
  },
  {
   "cell_type": "code",
   "execution_count": 77,
   "metadata": {},
   "outputs": [
    {
     "name": "stdout",
     "output_type": "stream",
     "text": [
      "OR output: [0, 1, 1, 1]\n"
     ]
    }
   ],
   "source": [
    "Th=0\n",
    "for i in range(0,4):\n",
    "    or_output[i]=thresold_fun(or_input[i],Th)\n",
    "print('OR output:',or_output)"
   ]
  },
  {
   "cell_type": "code",
   "execution_count": 78,
   "metadata": {},
   "outputs": [],
   "source": [
    "nand_input=NAND(input_vector)\n",
    "nand_output=[0,0,0,0]\n"
   ]
  },
  {
   "cell_type": "code",
   "execution_count": 79,
   "metadata": {},
   "outputs": [
    {
     "name": "stdout",
     "output_type": "stream",
     "text": [
      "NAND output: [1, 1, 1, 0]\n"
     ]
    }
   ],
   "source": [
    "\n",
    "for i in range(0,4):\n",
    "    nand_output[i]=thresold_fun(nand_input[i],Th)\n",
    "\n",
    "print('NAND output:',nand_output)\n"
   ]
  },
  {
   "cell_type": "code",
   "execution_count": 70,
   "metadata": {},
   "outputs": [],
   "source": [
    "input_vector=np.array([[or_output[0],nand_output[0]],[or_output[1],nand_output[1]],[or_output[2],nand_output[2]],[or_output[3],nand_output[3]]])"
   ]
  },
  {
   "cell_type": "code",
   "execution_count": 80,
   "metadata": {},
   "outputs": [],
   "source": [
    "def XOR(input_vector):\n",
    "    weights=np.array([1,1])\n",
    "    bias=np.array([-1.5,-1.5,-1.5,-1.5])\n",
    "    mat_mul=input_vector @ weights\n",
    "    total_ip=mat_mul+bias\n",
    "    return total_ip\n",
    "\n",
    "     "
   ]
  },
  {
   "cell_type": "code",
   "execution_count": 81,
   "metadata": {},
   "outputs": [],
   "source": [
    "xor_input=XOR(input_vector)\n",
    "xor_output=[0,0,0,0]"
   ]
  },
  {
   "cell_type": "code",
   "execution_count": 82,
   "metadata": {},
   "outputs": [
    {
     "name": "stdout",
     "output_type": "stream",
     "text": [
      "XOR output: [0, 1, 1, 0]\n"
     ]
    }
   ],
   "source": [
    "for i in range(0,4):\n",
    "    xor_output[i]=thresold_fun(total_in[i],Th)\n",
    "print('XOR output:',xor_output)\n",
    "\n"
   ]
  },
  {
   "cell_type": "code",
   "execution_count": null,
   "metadata": {},
   "outputs": [],
   "source": []
  }
 ],
 "metadata": {
  "kernelspec": {
   "display_name": "Python 3",
   "language": "python",
   "name": "python3"
  },
  "language_info": {
   "codemirror_mode": {
    "name": "ipython",
    "version": 3
   },
   "file_extension": ".py",
   "mimetype": "text/x-python",
   "name": "python",
   "nbconvert_exporter": "python",
   "pygments_lexer": "ipython3",
   "version": "3.8.3"
  }
 },
 "nbformat": 4,
 "nbformat_minor": 4
}
